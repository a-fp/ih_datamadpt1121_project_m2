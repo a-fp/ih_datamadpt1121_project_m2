{
 "cells": [
  {
   "cell_type": "code",
   "execution_count": 1,
   "id": "db089a17",
   "metadata": {},
   "outputs": [],
   "source": [
    "from sqlalchemy import create_engine\n",
    "import pandas as pd\n",
    "from openpyxl import Workbook\n",
    "import warnings\n",
    "warnings.filterwarnings('ignore')"
   ]
  },
  {
   "cell_type": "code",
   "execution_count": 3,
   "id": "1a025b04",
   "metadata": {},
   "outputs": [
    {
     "name": "stdout",
     "output_type": "stream",
     "text": [
      "['diamonds_city', 'diamonds_clarity', 'diamonds_color', 'diamonds_cut', 'diamonds_dimensions', 'diamonds_properties', 'diamonds_transactional']\n"
     ]
    }
   ],
   "source": [
    "engine=create_engine('sqlite:///data/diamonds_m2.db')\n",
    "table_names = engine.table_names()\n",
    "print(table_names)"
   ]
  },
  {
   "cell_type": "code",
   "execution_count": 4,
   "id": "170a214b",
   "metadata": {},
   "outputs": [],
   "source": [
    "diamonds_clarity = pd.read_sql_query(\"Select * from diamonds_clarity\",engine)\n",
    "diamonds_color = pd.read_sql_query(\"Select * from diamonds_color\",engine)\n",
    "diamonds_cut = pd.read_sql_query(\"Select * from diamonds_cut\",engine)\n",
    "diamonds_dimensions = pd.read_sql_query(\"Select * from diamonds_dimensions\",engine)\n",
    "diamonds_properties = pd.read_sql_query(\"Select * from diamonds_properties\",engine)\n",
    "diamonds_transactional = pd.read_sql_query(\"Select * from diamonds_transactional\",engine)\n",
    "diamonds_city = pd.read_sql_query(\"Select * from diamonds_city\",engine)"
   ]
  },
  {
   "cell_type": "code",
   "execution_count": 5,
   "id": "25fbe9e1",
   "metadata": {},
   "outputs": [
    {
     "data": {
      "text/html": [
       "<div>\n",
       "<style scoped>\n",
       "    .dataframe tbody tr th:only-of-type {\n",
       "        vertical-align: middle;\n",
       "    }\n",
       "\n",
       "    .dataframe tbody tr th {\n",
       "        vertical-align: top;\n",
       "    }\n",
       "\n",
       "    .dataframe thead th {\n",
       "        text-align: right;\n",
       "    }\n",
       "</style>\n",
       "<table border=\"1\" class=\"dataframe\">\n",
       "  <thead>\n",
       "    <tr style=\"text-align: right;\">\n",
       "      <th></th>\n",
       "      <th>index_id</th>\n",
       "      <th>cut_id</th>\n",
       "      <th>color_id</th>\n",
       "      <th>clarity_id</th>\n",
       "    </tr>\n",
       "  </thead>\n",
       "  <tbody>\n",
       "    <tr>\n",
       "      <th>0</th>\n",
       "      <td>5feceb66ffc86f38d952786c6d696c79c2dbc239dd4e91...</td>\n",
       "      <td>de88c121a82a06352bf1aaceba20578356408a334ba046...</td>\n",
       "      <td>6da43b944e494e885e69af021f93c6d9331c78aa228084...</td>\n",
       "      <td>f0b2a1d0db08cc64f85d74f1d15c2191e0e49039f4d8f2...</td>\n",
       "    </tr>\n",
       "    <tr>\n",
       "      <th>1</th>\n",
       "      <td>6b86b273ff34fce19d6b804eff5a3f5747ada4eaa22f1d...</td>\n",
       "      <td>388655e25e91872329272fc10128ef5354b3b19a05d7e8...</td>\n",
       "      <td>44bd7ae60f478fae1061e11a7739f4b94d1daf917982d3...</td>\n",
       "      <td>f0b2a1d0db08cc64f85d74f1d15c2191e0e49039f4d8f2...</td>\n",
       "    </tr>\n",
       "    <tr>\n",
       "      <th>2</th>\n",
       "      <td>d4735e3a265e16eee03f59718b9b5d03019c07d8b6c51f...</td>\n",
       "      <td>f7b19afcde965ea4942b878d266f89f8ba9a5a833e60f7...</td>\n",
       "      <td>333e0a1e27815d0ceee55c473fe3dc93d56c63e3bee2b3...</td>\n",
       "      <td>ef736c1f91cd1900c3d9cde925b1bf4f013adc0211a9ee...</td>\n",
       "    </tr>\n",
       "    <tr>\n",
       "      <th>3</th>\n",
       "      <td>4e07408562bedb8b60ce05c1decfe3ad16b72230967de0...</td>\n",
       "      <td>c939327ca16dcf97ca32521d8b834bf1de16573d21deda...</td>\n",
       "      <td>3f39d5c348e5b79d06e842c114e6cc571583bbf44e4b0e...</td>\n",
       "      <td>bd4f4a250da88f87729febc739ae97f439a14f9d38f0e3...</td>\n",
       "    </tr>\n",
       "    <tr>\n",
       "      <th>4</th>\n",
       "      <td>4b227777d4dd1fc61c6f884f48641d02b4d121d3fd328c...</td>\n",
       "      <td>4e3cfaa334cbafb57a399a98fad8d3812ece460018f457...</td>\n",
       "      <td>333e0a1e27815d0ceee55c473fe3dc93d56c63e3bee2b3...</td>\n",
       "      <td>bd4f4a250da88f87729febc739ae97f439a14f9d38f0e3...</td>\n",
       "    </tr>\n",
       "    <tr>\n",
       "      <th>...</th>\n",
       "      <td>...</td>\n",
       "      <td>...</td>\n",
       "      <td>...</td>\n",
       "      <td>...</td>\n",
       "    </tr>\n",
       "    <tr>\n",
       "      <th>40450</th>\n",
       "      <td>f0bc79169405ebeb24e308055156b946ffd819db9b4f75...</td>\n",
       "      <td>4e3cfaa334cbafb57a399a98fad8d3812ece460018f457...</td>\n",
       "      <td>333e0a1e27815d0ceee55c473fe3dc93d56c63e3bee2b3...</td>\n",
       "      <td>ef736c1f91cd1900c3d9cde925b1bf4f013adc0211a9ee...</td>\n",
       "    </tr>\n",
       "    <tr>\n",
       "      <th>40451</th>\n",
       "      <td>339916a23bf22b052b54cb2a9b36ee8418c1c68b46acad...</td>\n",
       "      <td>c939327ca16dcf97ca32521d8b834bf1de16573d21deda...</td>\n",
       "      <td>f67ab10ad4e4c53121b6a5fe4da9c10ddee905b978d378...</td>\n",
       "      <td>03c358cbd92e83278fd523f58dc6a9b4b198d00728af65...</td>\n",
       "    </tr>\n",
       "    <tr>\n",
       "      <th>40452</th>\n",
       "      <td>46957922b99954654c1deb8d854c3f069bf118b2ce9415...</td>\n",
       "      <td>4e3cfaa334cbafb57a399a98fad8d3812ece460018f457...</td>\n",
       "      <td>44bd7ae60f478fae1061e11a7739f4b94d1daf917982d3...</td>\n",
       "      <td>bd4f4a250da88f87729febc739ae97f439a14f9d38f0e3...</td>\n",
       "    </tr>\n",
       "    <tr>\n",
       "      <th>40453</th>\n",
       "      <td>9d733392d362d5c6f1d9b9659b601c7d4b5a1c1c8df579...</td>\n",
       "      <td>4e3cfaa334cbafb57a399a98fad8d3812ece460018f457...</td>\n",
       "      <td>6da43b944e494e885e69af021f93c6d9331c78aa228084...</td>\n",
       "      <td>ef736c1f91cd1900c3d9cde925b1bf4f013adc0211a9ee...</td>\n",
       "    </tr>\n",
       "    <tr>\n",
       "      <th>40454</th>\n",
       "      <td>a02744a70faa594d240b067f21fcc23a8d17cd1098a9fb...</td>\n",
       "      <td>4e3cfaa334cbafb57a399a98fad8d3812ece460018f457...</td>\n",
       "      <td>a83dd0ccbffe39d071cc317ddf6e97f5c6b1c87af91919...</td>\n",
       "      <td>bd4f4a250da88f87729febc739ae97f439a14f9d38f0e3...</td>\n",
       "    </tr>\n",
       "  </tbody>\n",
       "</table>\n",
       "<p>40455 rows × 4 columns</p>\n",
       "</div>"
      ],
      "text/plain": [
       "                                                index_id  \\\n",
       "0      5feceb66ffc86f38d952786c6d696c79c2dbc239dd4e91...   \n",
       "1      6b86b273ff34fce19d6b804eff5a3f5747ada4eaa22f1d...   \n",
       "2      d4735e3a265e16eee03f59718b9b5d03019c07d8b6c51f...   \n",
       "3      4e07408562bedb8b60ce05c1decfe3ad16b72230967de0...   \n",
       "4      4b227777d4dd1fc61c6f884f48641d02b4d121d3fd328c...   \n",
       "...                                                  ...   \n",
       "40450  f0bc79169405ebeb24e308055156b946ffd819db9b4f75...   \n",
       "40451  339916a23bf22b052b54cb2a9b36ee8418c1c68b46acad...   \n",
       "40452  46957922b99954654c1deb8d854c3f069bf118b2ce9415...   \n",
       "40453  9d733392d362d5c6f1d9b9659b601c7d4b5a1c1c8df579...   \n",
       "40454  a02744a70faa594d240b067f21fcc23a8d17cd1098a9fb...   \n",
       "\n",
       "                                                  cut_id  \\\n",
       "0      de88c121a82a06352bf1aaceba20578356408a334ba046...   \n",
       "1      388655e25e91872329272fc10128ef5354b3b19a05d7e8...   \n",
       "2      f7b19afcde965ea4942b878d266f89f8ba9a5a833e60f7...   \n",
       "3      c939327ca16dcf97ca32521d8b834bf1de16573d21deda...   \n",
       "4      4e3cfaa334cbafb57a399a98fad8d3812ece460018f457...   \n",
       "...                                                  ...   \n",
       "40450  4e3cfaa334cbafb57a399a98fad8d3812ece460018f457...   \n",
       "40451  c939327ca16dcf97ca32521d8b834bf1de16573d21deda...   \n",
       "40452  4e3cfaa334cbafb57a399a98fad8d3812ece460018f457...   \n",
       "40453  4e3cfaa334cbafb57a399a98fad8d3812ece460018f457...   \n",
       "40454  4e3cfaa334cbafb57a399a98fad8d3812ece460018f457...   \n",
       "\n",
       "                                                color_id  \\\n",
       "0      6da43b944e494e885e69af021f93c6d9331c78aa228084...   \n",
       "1      44bd7ae60f478fae1061e11a7739f4b94d1daf917982d3...   \n",
       "2      333e0a1e27815d0ceee55c473fe3dc93d56c63e3bee2b3...   \n",
       "3      3f39d5c348e5b79d06e842c114e6cc571583bbf44e4b0e...   \n",
       "4      333e0a1e27815d0ceee55c473fe3dc93d56c63e3bee2b3...   \n",
       "...                                                  ...   \n",
       "40450  333e0a1e27815d0ceee55c473fe3dc93d56c63e3bee2b3...   \n",
       "40451  f67ab10ad4e4c53121b6a5fe4da9c10ddee905b978d378...   \n",
       "40452  44bd7ae60f478fae1061e11a7739f4b94d1daf917982d3...   \n",
       "40453  6da43b944e494e885e69af021f93c6d9331c78aa228084...   \n",
       "40454  a83dd0ccbffe39d071cc317ddf6e97f5c6b1c87af91919...   \n",
       "\n",
       "                                              clarity_id  \n",
       "0      f0b2a1d0db08cc64f85d74f1d15c2191e0e49039f4d8f2...  \n",
       "1      f0b2a1d0db08cc64f85d74f1d15c2191e0e49039f4d8f2...  \n",
       "2      ef736c1f91cd1900c3d9cde925b1bf4f013adc0211a9ee...  \n",
       "3      bd4f4a250da88f87729febc739ae97f439a14f9d38f0e3...  \n",
       "4      bd4f4a250da88f87729febc739ae97f439a14f9d38f0e3...  \n",
       "...                                                  ...  \n",
       "40450  ef736c1f91cd1900c3d9cde925b1bf4f013adc0211a9ee...  \n",
       "40451  03c358cbd92e83278fd523f58dc6a9b4b198d00728af65...  \n",
       "40452  bd4f4a250da88f87729febc739ae97f439a14f9d38f0e3...  \n",
       "40453  ef736c1f91cd1900c3d9cde925b1bf4f013adc0211a9ee...  \n",
       "40454  bd4f4a250da88f87729febc739ae97f439a14f9d38f0e3...  \n",
       "\n",
       "[40455 rows x 4 columns]"
      ]
     },
     "execution_count": 5,
     "metadata": {},
     "output_type": "execute_result"
    }
   ],
   "source": [
    "diamonds_properties"
   ]
  },
  {
   "cell_type": "code",
   "execution_count": 6,
   "id": "c43050b0",
   "metadata": {},
   "outputs": [],
   "source": [
    "#diamonds_clarity\n",
    "#diamonds_color\n",
    "#diamonds_cut\n",
    "#diamonds_dimensions\n",
    "#diamonds_transactional\n",
    "#diamonds_city"
   ]
  },
  {
   "cell_type": "code",
   "execution_count": 7,
   "id": "f9a748fa",
   "metadata": {},
   "outputs": [],
   "source": [
    "query_1='''SELECT \n",
    "            propertis.index_id,\n",
    "            clarity.clarity,\n",
    "            color.color,\n",
    "            cut.cut,\n",
    "            dimensions.depth,\n",
    "            dimensions.'table',\n",
    "            dimensions.x,\n",
    "            dimensions.y,\n",
    "            dimensions.z,\n",
    "            transactional.price,\n",
    "            transactional.carat,\n",
    "            city.city\n",
    "        FROM diamonds_properties as propertis\n",
    "        LEFT JOIN diamonds_clarity as clarity ON propertis.clarity_id = clarity.clarity_id\n",
    "        LEFT JOIN diamonds_color as color ON propertis.color_id = color.color_id\n",
    "        LEFT JOIN diamonds_cut as cut ON propertis.cut_id = cut.cut_id\n",
    "        LEFT JOIN diamonds_dimensions as dimensions ON propertis.index_id = dimensions.index_id\n",
    "        LEFT JOIN diamonds_transactional as transactional ON propertis.index_id = transactional.index_id\n",
    "        LEFT JOIN diamonds_city as city ON transactional.city_id = city.city_id'''\n"
   ]
  },
  {
   "cell_type": "code",
   "execution_count": 8,
   "id": "af1e1e12",
   "metadata": {},
   "outputs": [],
   "source": [
    "diamonds = pd.read_sql_query(query_1,engine)"
   ]
  },
  {
   "cell_type": "code",
   "execution_count": 9,
   "id": "ea1cb3c7",
   "metadata": {},
   "outputs": [],
   "source": [
    "#Elimino los valores 0 de las medidas. \n",
    "Columns = ['x','y','z']\n",
    "\n",
    "for i in Columns:\n",
    "    Error_index_size = diamonds[diamonds[i]==0].index\n",
    "    diamonds=diamonds.drop(Error_index_size)"
   ]
  },
  {
   "cell_type": "code",
   "execution_count": 10,
   "id": "c3704e6b",
   "metadata": {},
   "outputs": [],
   "source": [
    "#Elimino un valor table desviado\n",
    "Error_index_table = diamonds[diamonds['table']==95].index\n",
    "diamonds=diamonds.drop(Error_index_table)"
   ]
  },
  {
   "cell_type": "code",
   "execution_count": 11,
   "id": "f3492903",
   "metadata": {},
   "outputs": [],
   "source": [
    "#Calculo la columna volumen\n",
    "diamonds['Volumen']= diamonds['x']*diamonds['y']*diamonds['z']"
   ]
  },
  {
   "cell_type": "code",
   "execution_count": 77,
   "id": "a56aa83b",
   "metadata": {},
   "outputs": [
    {
     "name": "stdout",
     "output_type": "stream",
     "text": [
      "DataFrame is written to Excel File successfully.\n"
     ]
    }
   ],
   "source": [
    "file_name = 'diamonds.xlsx'\n",
    "diamonds.to_excel(file_name, index=False)\n",
    "print('DataFrame is written to Excel File successfully.')"
   ]
  }
 ],
 "metadata": {
  "interpreter": {
   "hash": "49fd6f697253dbb021909952064b8fede13e331218496649e072386eefa937de"
  },
  "kernelspec": {
   "display_name": "Python [conda env:proj_m2]",
   "language": "python",
   "name": "python3"
  },
  "language_info": {
   "codemirror_mode": {
    "name": "ipython",
    "version": 3
   },
   "file_extension": ".py",
   "mimetype": "text/x-python",
   "name": "python",
   "nbconvert_exporter": "python",
   "pygments_lexer": "ipython3",
   "version": "3.7.11"
  }
 },
 "nbformat": 4,
 "nbformat_minor": 5
}
